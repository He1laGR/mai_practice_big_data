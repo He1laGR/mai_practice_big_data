{
 "cells": [
  {
   "cell_type": "markdown",
   "id": "e8d6d435-4021-40ff-9bd4-1edfdb4fb68c",
   "metadata": {},
   "source": [
    "## Preparing sources to DWH"
   ]
  },
  {
   "cell_type": "code",
   "execution_count": 199,
   "id": "d5db9d4e-206a-48ee-949d-48e4e4c9fa9f",
   "metadata": {},
   "outputs": [],
   "source": [
    "from pyspark.sql import SparkSession"
   ]
  },
  {
   "cell_type": "code",
   "execution_count": 200,
   "id": "766d9512-b5c9-432d-9de0-f45297a6f62b",
   "metadata": {},
   "outputs": [],
   "source": [
    "from pyspark.sql.functions import col, lit, current_timestamp"
   ]
  },
  {
   "cell_type": "code",
   "execution_count": 338,
   "id": "fae5938d-37b1-4c38-bdb6-38fe7cbb0d87",
   "metadata": {},
   "outputs": [],
   "source": [
    "# Создаём SparkSession\n",
    "spark = SparkSession.builder \\\n",
    "    .appName(\"ETL to DWH\") \\\n",
    "    .getOrCreate()"
   ]
  },
  {
   "cell_type": "code",
   "execution_count": 339,
   "id": "ad53cc03-c6b1-4d2f-842b-92085a09672c",
   "metadata": {},
   "outputs": [],
   "source": [
    "db_url = \"jdbc:postgresql://postgres_container:5432/postgres_db\"\n",
    "\n",
    "db_properties = {\n",
    "    \"user\": \"postgres_user\",\n",
    "    \"password\": \"postgres_password\",\n",
    "    \"driver\": \"org.postgresql.Driver\"\n",
    "}"
   ]
  },
  {
   "cell_type": "code",
   "execution_count": 341,
   "id": "e40a036e-8bf5-45c2-a6d7-376888629a94",
   "metadata": {},
   "outputs": [],
   "source": [
    "# Функция для чтения таблиц из бд\n",
    "def read_table(schema, table_name):\n",
    "    return spark.read.jdbc(\n",
    "        url=db_url,\n",
    "        table=f\"{schema}.{table_name}\",\n",
    "        properties=db_properties,\n",
    "    )"
   ]
  },
  {
   "cell_type": "code",
   "execution_count": 342,
   "id": "3b5b9723-296e-4ced-b87b-d4ea0e069828",
   "metadata": {},
   "outputs": [],
   "source": [
    "# Считываем данные из источников\n",
    "df_craft_market_wide = read_table(\"source1\", \"craft_market_wide\")\n",
    "df_craft_market_orders_customers = read_table(\"source2\", \"craft_market_orders_customers\")\n",
    "df_craft_market_masters_products = read_table(\"source2\", \"craft_market_masters_products\")\n",
    "df_craft_market_orders = read_table(\"source3\", \"craft_market_orders\")\n",
    "df_craft_market_craftmens = read_table(\"source3\", \"craft_market_craftsmans\")\n",
    "df_craft_market_customers = read_table(\"source3\", \"craft_market_customers\")"
   ]
  },
  {
   "cell_type": "markdown",
   "id": "85369c4d-1616-4d92-af22-4e95b366f25e",
   "metadata": {},
   "source": [
    "# Маппируем чтобы все источники обрабатывались в одном формате для дальнейшего их union'a"
   ]
  },
  {
   "cell_type": "code",
   "execution_count": 343,
   "id": "e62013d6-316c-47ca-ad07-1e9b09f51c4a",
   "metadata": {},
   "outputs": [],
   "source": [
    "# поля кроме id для 1 источника\n",
    "columns_to_select = [col for col in df_craft_market_wide.columns if col != 'id']"
   ]
  },
  {
   "cell_type": "code",
   "execution_count": 344,
   "id": "472565e6-8b0c-4b39-b5db-6682cc516050",
   "metadata": {},
   "outputs": [
    {
     "data": {
      "text/plain": [
       "['craftsman_id',\n",
       " 'craftsman_name',\n",
       " 'craftsman_address',\n",
       " 'craftsman_birthday',\n",
       " 'craftsman_email',\n",
       " 'product_id',\n",
       " 'product_name',\n",
       " 'product_description',\n",
       " 'product_type',\n",
       " 'product_price',\n",
       " 'order_id',\n",
       " 'order_created_date',\n",
       " 'order_completion_date',\n",
       " 'order_status',\n",
       " 'customer_id',\n",
       " 'customer_name',\n",
       " 'customer_address',\n",
       " 'customer_birthday',\n",
       " 'customer_email']"
      ]
     },
     "execution_count": 344,
     "metadata": {},
     "output_type": "execute_result"
    }
   ],
   "source": [
    "columns_to_select"
   ]
  },
  {
   "cell_type": "code",
   "execution_count": 321,
   "id": "93728b18-a9a7-4982-bc3a-e640af1fb909",
   "metadata": {},
   "outputs": [],
   "source": [
    "source_1 = df_craft_market_wide.select(*columns_to_select)"
   ]
  },
  {
   "cell_type": "code",
   "execution_count": 346,
   "id": "abf4646e-7ea4-4928-b44a-fd0691e350d3",
   "metadata": {},
   "outputs": [],
   "source": [
    "# препарирование второго источника\n",
    "source_2 = df_craft_market_orders_customers.join(\n",
    "    df_craft_market_masters_products,\n",
    "    df_craft_market_orders_customers.craftsman_id  == df_craft_market_masters_products.craftsman_id\n",
    ").select(\n",
    "    df_craft_market_masters_products.craftsman_id,\n",
    "    df_craft_market_masters_products.craftsman_name,\n",
    "    df_craft_market_masters_products.craftsman_address,\n",
    "    df_craft_market_masters_products.craftsman_birthday,\n",
    "    df_craft_market_masters_products.craftsman_email,\n",
    "    df_craft_market_masters_products.product_id,\n",
    "    df_craft_market_masters_products.product_name,\n",
    "    df_craft_market_masters_products.product_description,\n",
    "    df_craft_market_masters_products.product_type,\n",
    "    df_craft_market_masters_products.product_price,\n",
    "    df_craft_market_orders_customers.order_id,\n",
    "    df_craft_market_orders_customers.order_created_date,\n",
    "    df_craft_market_orders_customers.order_completion_date,\n",
    "    df_craft_market_orders_customers.order_status,\n",
    "    df_craft_market_orders_customers.customer_id,\n",
    "    df_craft_market_orders_customers.customer_name,\n",
    "    df_craft_market_orders_customers.customer_address,\n",
    "    df_craft_market_orders_customers.customer_birthday,\n",
    "    df_craft_market_orders_customers.customer_email,\n",
    ")"
   ]
  },
  {
   "cell_type": "code",
   "execution_count": 347,
   "id": "f3ad2308-a959-428a-a39a-e28dc0ed0eb0",
   "metadata": {},
   "outputs": [],
   "source": [
    "# препарирование третьего источника\n",
    "source_3 = df_craft_market_orders.join(\n",
    "    df_craft_market_craftmens,\n",
    "    df_craft_market_orders.craftsman_id == df_craft_market_craftmens.craftsman_id\n",
    ").join(\n",
    "    df_craft_market_customers,\n",
    "    df_craft_market_orders.customer_id == df_craft_market_customers.customer_id\n",
    ").select(\n",
    "    df_craft_market_craftmens.craftsman_id,\n",
    "    df_craft_market_craftmens.craftsman_name,\n",
    "    df_craft_market_craftmens.craftsman_address,\n",
    "    df_craft_market_craftmens.craftsman_birthday,\n",
    "    df_craft_market_craftmens.craftsman_email,\n",
    "    df_craft_market_orders.product_id,\n",
    "    df_craft_market_orders.product_name,\n",
    "    df_craft_market_orders.product_description,\n",
    "    df_craft_market_orders.product_type,\n",
    "    df_craft_market_orders.product_price,\n",
    "    df_craft_market_orders.order_id,\n",
    "    df_craft_market_orders.order_created_date,\n",
    "    df_craft_market_orders.order_completion_date,\n",
    "    df_craft_market_orders.order_status,\n",
    "    df_craft_market_customers.customer_id,\n",
    "    df_craft_market_customers.customer_name,\n",
    "    df_craft_market_customers.customer_address,\n",
    "    df_craft_market_customers.customer_birthday,\n",
    "    df_craft_market_customers.customer_email\n",
    ")"
   ]
  },
  {
   "cell_type": "code",
   "execution_count": 349,
   "id": "6a97f095-acfd-4238-914c-4159cf89c974",
   "metadata": {},
   "outputs": [],
   "source": [
    "combined_sources = source_1.union(source_2).union(source_3).distinct() # Соединяем все источники, отсекаем дубли"
   ]
  },
  {
   "cell_type": "markdown",
   "id": "fcab5579-86c2-4b73-bb3f-9bfa53d7265a",
   "metadata": {},
   "source": [
    "## Напишите код на Spark, который будет заполнять сначала таблицы измерений и фактов в DWH"
   ]
  },
  {
   "cell_type": "code",
   "execution_count": 350,
   "id": "4491ec98-44de-4d02-8393-ac62559e199e",
   "metadata": {},
   "outputs": [],
   "source": [
    "# функция для записи в двх\n",
    "def write_table(df, schema, table_name):\n",
    "    df.write.jdbc(\n",
    "        url=db_url,\n",
    "        table=f\"{schema}.{table_name}\",\n",
    "        mode=\"append\",\n",
    "        properties=db_properties\n",
    "    )"
   ]
  },
  {
   "cell_type": "code",
   "execution_count": 351,
   "id": "fcd36a82-1651-4057-9dd3-cb15c60a53c0",
   "metadata": {},
   "outputs": [],
   "source": [
    "# функция для преобразования и загрузки справочников в двх\n",
    "def update_dwh_dimension(combined_sources, dwh_table_name, key_columns, schema=\"dwh\"):\n",
    "    dwh_table = read_table(schema, dwh_table_name)\n",
    "    need_columns = [col for col in dwh_table.columns if col not in key_columns]\n",
    "    new_records = combined_sources.select(need_columns).distinct().exceptAll(dwh_table.select(need_columns)).withColumn(\"load_dttm\", current_timestamp())\n",
    "    write_table(new_records, schema, dwh_table_name)\n",
    "    print(f\"Updated {dwh_table_name}: {new_records.count()} new rows added.\")\n"
   ]
  },
  {
   "cell_type": "code",
   "execution_count": 509,
   "id": "4988dc32-4cc5-4c75-b17e-157434d8c05b",
   "metadata": {},
   "outputs": [
    {
     "name": "stdout",
     "output_type": "stream",
     "text": [
      "Updated d_craftsmans: 0 new rows added.\n",
      "Updated d_customers: 0 new rows added.\n",
      "Updated d_products: 0 new rows added.\n"
     ]
    }
   ],
   "source": [
    "# загружаем данные в таблицы-справочники, без id т.к. они будут генерится\n",
    "update_dwh_dimension(combined_sources, \"d_craftsmans\", [\"craftsman_id\", \"load_dttm\"])\n",
    "update_dwh_dimension(combined_sources, \"d_customers\", [\"customer_id\", \"load_dttm\"])\n",
    "update_dwh_dimension(combined_sources, \"d_products\", [\"product_id\", \"load_dttm\"])"
   ]
  },
  {
   "cell_type": "code",
   "execution_count": 510,
   "id": "81ef014e-c34e-47a7-b5cc-04f1a7faee6b",
   "metadata": {},
   "outputs": [
    {
     "name": "stdout",
     "output_type": "stream",
     "text": [
      "Updated f_orders: 2997 new rows added.\n",
      "+--------+----------+------------+-----------+------------------+---------------------+------------+--------------------+\n",
      "|order_id|product_id|craftsman_id|customer_id|order_created_date|order_completion_date|order_status|           load_dttm|\n",
      "+--------+----------+------------+-----------+------------------+---------------------+------------+--------------------+\n",
      "|       1|        86|          86|         86|        2022-07-18|           2022-07-21|        done|2024-12-24 23:55:...|\n",
      "|       2|       770|         770|        770|        2022-06-30|           2022-07-01|        done|2024-12-24 23:55:...|\n",
      "|       3|       148|         148|        148|        2022-10-25|           2022-10-27|        done|2024-12-24 23:55:...|\n",
      "|       4|       505|         505|        505|        2022-07-05|           2022-07-08|        done|2024-12-24 23:55:...|\n",
      "|       5|       594|         594|        594|        2022-05-16|           2022-05-18|        done|2024-12-24 23:55:...|\n",
      "|       6|       724|         724|        724|        2022-11-14|           2022-11-17|        done|2024-12-24 23:55:...|\n",
      "|       7|       119|         119|        119|        2022-05-17|           2022-05-18|        done|2024-12-24 23:55:...|\n",
      "|       8|       898|         898|        898|        2022-11-14|           2022-11-16|        done|2024-12-24 23:55:...|\n",
      "|       9|       334|         334|        334|        2022-08-01|           2022-08-04|        done|2024-12-24 23:55:...|\n",
      "|      10|        85|          85|         85|        2022-09-23|           2022-09-26|        done|2024-12-24 23:55:...|\n",
      "|      11|       133|         133|        133|        2022-11-23|           2022-11-26|        done|2024-12-24 23:55:...|\n",
      "|      12|       836|         836|        836|        2022-07-10|           2022-07-13|        done|2024-12-24 23:55:...|\n",
      "|      13|        21|          21|         21|        2022-11-19|           2022-11-20|        done|2024-12-24 23:55:...|\n",
      "|      14|       318|         318|        318|        2022-09-22|           2022-09-23|        done|2024-12-24 23:55:...|\n",
      "|      15|       756|         756|        756|        2022-08-18|           2022-08-19|        done|2024-12-24 23:55:...|\n",
      "|      16|       385|         385|        385|        2022-10-24|           2022-10-26|        done|2024-12-24 23:55:...|\n",
      "|      17|         3|           3|          3|        2022-09-05|           2022-09-06|        done|2024-12-24 23:55:...|\n",
      "|      18|       329|         329|        329|        2022-08-06|           2022-08-07|        done|2024-12-24 23:55:...|\n",
      "|      19|       337|         337|        337|        2022-07-12|           2022-07-15|        done|2024-12-24 23:55:...|\n",
      "|      20|       515|         515|        515|        2022-09-13|           2022-09-15|        done|2024-12-24 23:55:...|\n",
      "+--------+----------+------------+-----------+------------------+---------------------+------------+--------------------+\n",
      "only showing top 20 rows\n",
      "\n"
     ]
    }
   ],
   "source": [
    "# Считываем таблицу фактов f_orders\n",
    "f_orders = read_table(\"dwh\", \"f_orders\")\n",
    "# Собираем ее должным образом\n",
    "f_orders_new = (\n",
    "    combined_sources\n",
    "    .join(d_products, combined_sources[\"product_id\"] == d_products[\"product_id\"], \"left\")\n",
    "    .join(d_craftsmans, combined_sources[\"craftsman_id\"] == d_craftsmans[\"craftsman_id\"], \"left\")\n",
    "    .join(d_customers, combined_sources[\"customer_id\"] == d_customers[\"customer_id\"], \"left\")\n",
    "    .select(\n",
    "        d_products[\"product_id\"],\n",
    "        d_craftsmans[\"craftsman_id\"],\n",
    "        d_customers[\"customer_id\"],\n",
    "        combined_sources[\"order_created_date\"],\n",
    "        combined_sources[\"order_completion_date\"],\n",
    "        combined_sources[\"order_status\"],\n",
    "        current_timestamp().alias(\"load_dttm\")\n",
    "    )\n",
    ")\n",
    "\n",
    "write_table(f_orders_new, \"dwh\", \"f_orders\")\n",
    "print(f\"Updated {'f_orders'}: {f_orders_new.count()} new rows added.\")\n",
    "\n",
    "f_orders.show()"
   ]
  },
  {
   "cell_type": "markdown",
   "id": "c6f69b16-d563-4b9f-ab15-e245dc266dc9",
   "metadata": {},
   "source": [
    "## Затем напишите код на Spark, который заполнит таблицу витрины данных из данных таблиц измерений и фактов в DWH. Напишите код инкрементальным, чтобы можно было забирать только измененные данные на источниках."
   ]
  },
  {
   "cell_type": "code",
   "execution_count": 467,
   "id": "a5e99334-fcf6-402a-aee5-ec17105e14a7",
   "metadata": {},
   "outputs": [],
   "source": [
    "from pyspark.sql.functions import sum, avg, count, expr, row_number, when, current_date, date_format, coalesce\n",
    "from pyspark.sql.window import Window\n",
    "from datetime import date"
   ]
  },
  {
   "cell_type": "code",
   "execution_count": 588,
   "id": "38a81b86-639e-4f77-950f-392b624d280f",
   "metadata": {},
   "outputs": [],
   "source": [
    "# Чтение сформированных таблиц фактов и измерений из dwh\n",
    "f_orders = read_table(\"dwh\", \"f_orders\")\n",
    "d_craftsmans = read_table(\"dwh\", \"d_craftsmans\")\n",
    "d_products = read_table(\"dwh\", \"d_products\")\n",
    "d_customers = read_table(\"dwh\", \"d_customers\")"
   ]
  },
  {
   "cell_type": "code",
   "execution_count": 589,
   "id": "75a85bd9-0db5-474d-a674-2a9ece15aaf8",
   "metadata": {},
   "outputs": [],
   "source": [
    "# Задаем отчетный период год и месяц\n",
    "f_orders = f_orders.withColumn(\"report_period\", date_format(\"order_created_date\", \"yyyy-MM\"))"
   ]
  },
  {
   "cell_type": "code",
   "execution_count": 590,
   "id": "ccd2064b-b634-4c17-afe6-a293884cd670",
   "metadata": {},
   "outputs": [],
   "source": [
    "# Расчеты аггрегаций\n",
    "new_craftsman_report_datamart = (\n",
    "    f_orders\n",
    "    .join(d_craftsmans, f_orders.craftsman_id == d_craftsmans[\"craftsman_id\"])\n",
    "    .join(d_products, f_orders.product_id == d_products[\"product_id\"])\n",
    "    .join(d_customers, f_orders.customer_id == d_customers[\"customer_id\"])\n",
    ").groupBy(\n",
    "    d_craftsmans[\"craftsman_id\"],\n",
    "    d_craftsmans[\"craftsman_name\"],\n",
    "    d_craftsmans[\"craftsman_address\"],\n",
    "    d_craftsmans[\"craftsman_birthday\"],\n",
    "    d_craftsmans[\"craftsman_email\"],\n",
    "    f_orders.report_period\n",
    ").agg(\n",
    "    (sum(d_products[\"product_price\"] * 0.9).cast(\"decimal(15,2)\")).alias(\"craftsman_money\"), # сумма денег, которую заработал мастер (-10% на платформы) за месяц\n",
    "    (sum(d_products[\"product_price\"] * 0.1).cast(\"bigint\")).alias(\"platform_money\"), # сумма денег, которая заработала платформа от продаж мастера за месяц\n",
    "    count(f_orders.order_id).alias(\"count_order\"), # количество заказов у мастера за месяц\n",
    "    (avg(d_products[\"product_price\"]).cast(\"decimal(10,2)\")).alias(\"avg_price_order\"), # средняя стоимость одного заказа у мастера за месяц\n",
    "    (avg(expr(\"DATEDIFF(current_date(), customer_birthday) / 365.25\")).cast(\"decimal(3,1)\")).alias(\"avg_age_customer\"), # средний возраст покупателей\n",
    "    (median(coalesce(expr(\"DATEDIFF(order_completion_date, order_created_date)\"), lit(0))).cast(\"decimal(10,1)\")).alias(\"median_time_order_completed\"), # медианное время в днях от момента создания заказа до его завершения  за месяц\n",
    "    sum(when(f_orders.order_status == \"created\", 1).otherwise(0)).alias(\"count_order_created\"), # количество созданных заказов за месяц\n",
    "    sum(when(f_orders.order_status == \"in_progress\", 1).otherwise(0)).alias(\"count_order_in_progress\"), # количество заказов в процессе изготовки за месяц\n",
    "    sum(when(f_orders.order_status == \"delivery\", 1).otherwise(0)).alias(\"count_order_delivery\"), # количество заказов в доставке за месяц\n",
    "    sum(when(f_orders.order_status == \"done\", 1).otherwise(0)).alias(\"count_order_done\"), # количество завершенных заказов за месяц\n",
    "    sum(when(f_orders.order_status.isNull(), 1).otherwise(0)).alias(\"count_order_not_done\") # количество незавершенных заказов за месяц\n",
    ")"
   ]
  },
  {
   "cell_type": "code",
   "execution_count": 591,
   "id": "5268c1b0-c141-461c-aede-c687fa1dc2dd",
   "metadata": {},
   "outputs": [],
   "source": [
    "# Добавляем топ категорию у мастера за месяц\n",
    "window_spec = Window.partitionBy(\"craftsman_id\", \"report_period\").orderBy(col(\"count_category\").desc())\n",
    "\n",
    "# Считаем для каждого мастера и периода\n",
    "product_category_counts = (\n",
    "    f_orders\n",
    "    .join(d_products, d_products[\"product_price\"] == f_orders.product_id)\n",
    ").groupBy(\n",
    "    f_orders.craftsman_id, f_orders.report_period, d_products[\"product_type\"]\n",
    ").agg(\n",
    "    count(d_products[\"product_type\"]).alias(\"count_category\")\n",
    ")\n",
    "\n",
    "# Топ 1 категория\n",
    "top_categories = product_category_counts.withColumn(\n",
    "    \"row_num\", row_number().over(window_spec)\n",
    ").filter(\n",
    "    col(\"row_num\") == 1\n",
    ").select(\n",
    "    f_orders.craftsman_id, f_orders.report_period, d_products[\"product_type\"]\n",
    ")"
   ]
  },
  {
   "cell_type": "code",
   "execution_count": 592,
   "id": "098a8103-1c6b-4453-a20e-8d948ddc2e2a",
   "metadata": {},
   "outputs": [],
   "source": [
    "# Джойним категорию к витрине\n",
    "new_craftsman_report_datamart = (\n",
    "    new_craftsman_report_datamart\n",
    "    .join(top_categories,[\"craftsman_id\", \"report_period\"],\"left\")\n",
    "    .withColumnRenamed(\"product_type\", \"top_product_category\")\n",
    "    .withColumn(\"top_product_category\", coalesce(col(\"top_product_category\"), lit(\"Unknown\")))  # Заменяем NULL на \"Unknown\"\n",
    ")"
   ]
  },
  {
   "cell_type": "code",
   "execution_count": 593,
   "id": "911daadb-d050-46b9-90f5-0f908b107301",
   "metadata": {},
   "outputs": [
    {
     "name": "stdout",
     "output_type": "stream",
     "text": [
      "+------------+-------------+--------------+------------------+------------------+--------------------+---------------+--------------+-----------+---------------+----------------+---------------------------+-------------------+-----------------------+--------------------+----------------+--------------------+--------------------+\n",
      "|craftsman_id|report_period|craftsman_name| craftsman_address|craftsman_birthday|     craftsman_email|craftsman_money|platform_money|count_order|avg_price_order|avg_age_customer|median_time_order_completed|count_order_created|count_order_in_progress|count_order_delivery|count_order_done|count_order_not_done|top_product_category|\n",
      "+------------+-------------+--------------+------------------+------------------+--------------------+---------------+--------------+-----------+---------------+----------------+---------------------------+-------------------+-----------------------+--------------------+----------------+--------------------+--------------------+\n",
      "|           2|      2020-03|    Jake Draye|    2 Bluestem Way|        2003-08-01|dwannes8v@newsvin...|          27.00|             3|          3|          10.00|            31.6|                        0.0|                  0|                      0|                   0|               0|                   0|             clothes|\n",
      "|           2|      2018-08|    Jake Draye|    2 Bluestem Way|        2003-08-01|dwannes8v@newsvin...|          27.00|             3|          3|          10.00|            31.6|                        0.0|                  0|                      0|                   0|               0|                   0|             clothes|\n",
      "|           1|      2022-09|Khalil Heining|83956 Manley Plaza|        1998-02-08|ymcwhorter17@inte...|          32.40|             3|          3|          12.00|            29.6|                        0.0|                  0|                      0|                   0|               0|                   0|    Beauty & Hygiene|\n",
      "+------------+-------------+--------------+------------------+------------------+--------------------+---------------+--------------+-----------+---------------+----------------+---------------------------+-------------------+-----------------------+--------------------+----------------+--------------------+--------------------+\n",
      "only showing top 3 rows\n",
      "\n"
     ]
    }
   ],
   "source": [
    "# Итоговая витрина\n",
    "new_craftsman_report_datamart.show(3)"
   ]
  },
  {
   "cell_type": "markdown",
   "id": "e6a25200-4923-4a9a-8e11-30c25ab18220",
   "metadata": {},
   "source": [
    "## Инкерментальная загрузка"
   ]
  },
  {
   "cell_type": "code",
   "execution_count": 449,
   "id": "61b83127-3dc2-4b1b-95e1-5ef84b99a250",
   "metadata": {},
   "outputs": [],
   "source": [
    "from datetime import datetime\n",
    "import psycopg2\n",
    "from psycopg2.extras import execute_values"
   ]
  },
  {
   "cell_type": "code",
   "execution_count": 620,
   "id": "dcb2a5eb-96dc-4f0f-aef1-221d8aaab606",
   "metadata": {},
   "outputs": [],
   "source": [
    "# Считываем витрину\n",
    "existing_craftsman_report_datamart = read_table(\"dwh\", \"craftsman_report_datamart\")\n",
    "# Ключевые столбцы и потенциально-измененные столбцы\n",
    "key_columns = [\"craftsman_id\", \"report_period\"]\n",
    "check_columns = [\n",
    "    \"craftsman_money\", \"platform_money\", \"count_order\", \"avg_price_order\",\n",
    "    \"avg_age_customer\", \"median_time_order_completed\", \"count_order_created\",\n",
    "    \"count_order_in_progress\", \"count_order_delivery\", \"count_order_done\",\n",
    "    \"count_order_not_done\", \"top_product_category\"\n",
    "]\n",
    "\n",
    "# Определяем новые строки которых нет в витрине\n",
    "new_rows = new_craftsman_report_datamart.join(existing_craftsman_report_datamart, key_columns, \"left_anti\")\n",
    "# Определяем обновленные строки (только если есть изменения в потенциально измененных столбцах\n",
    "updated_rows = (\n",
    "    new_craftsman_report_datamart.alias(\"new\")\n",
    "    .join(existing_craftsman_report_datamart.alias(\"existing\"), key_columns, \"inner\")\n",
    "    .filter(\n",
    "        expr(\n",
    "            \" OR \".join([\n",
    "                f\"new.{col} != existing.{col}\" for col in check_columns\n",
    "            ])\n",
    "        )\n",
    "    )\n",
    "    .select(\"new.*\")\n",
    ")\n"
   ]
  },
  {
   "cell_type": "code",
   "execution_count": 622,
   "id": "5270b119-2b56-4f6a-9111-b238e1c92dcb",
   "metadata": {},
   "outputs": [],
   "source": [
    "# Сначала обновление существующих строк через PostgreSQL, если есть изменения\n",
    "if updated_rows.count() > 0:\n",
    "    rows_to_update = updated_rows.collect()\n",
    "    update_query = \"\"\"\n",
    "    INSERT INTO dwh.craftsman_report_datamart (\n",
    "        craftsman_id, report_period, craftsman_money, platform_money, count_order, avg_price_order,\n",
    "        avg_age_customer, median_time_order_completed, count_order_created, count_order_in_progress,\n",
    "        count_order_delivery, count_order_done, count_order_not_done, top_product_category\n",
    "    )\n",
    "    VALUES %s\n",
    "    ON CONFLICT (craftsman_id, report_period)\n",
    "    DO UPDATE SET\n",
    "        craftsman_money = EXCLUDED.craftsman_money,\n",
    "        platform_money = EXCLUDED.platform_money,\n",
    "        count_order = EXCLUDED.count_order,\n",
    "        avg_price_order = EXCLUDED.avg_price_order,\n",
    "        avg_age_customer = EXCLUDED.avg_age_customer,\n",
    "        median_time_order_completed = EXCLUDED.median_time_order_completed,\n",
    "        count_order_created = EXCLUDED.count_order_created,\n",
    "        count_order_in_progress = EXCLUDED.count_order_in_progress,\n",
    "        count_order_delivery = EXCLUDED.count_order_delivery,\n",
    "        count_order_done = EXCLUDED.count_order_done,\n",
    "        count_order_not_done = EXCLUDED.count_order_not_done,\n",
    "        top_product_category = EXCLUDED.top_product_category\n",
    "    \"\"\"\n",
    "    conn = psycopg2.connect(\n",
    "        dbname=\"postgres_db\",\n",
    "        user=\"postgres_user\",\n",
    "        password=\"postgres_password\",\n",
    "        host=\"postgres_container\",\n",
    "        port=\"5432\"\n",
    "    )\n",
    "    with conn.cursor() as cursor:\n",
    "        values = [\n",
    "            (\n",
    "                row[\"craftsman_id\"], row[\"report_period\"], row[\"craftsman_money\"], row[\"platform_money\"],\n",
    "                row[\"count_order\"], row[\"avg_price_order\"], row[\"avg_age_customer\"],\n",
    "                row[\"median_time_order_completed\"], row[\"count_order_created\"],\n",
    "                row[\"count_order_in_progress\"], row[\"count_order_delivery\"], row[\"count_order_done\"],\n",
    "                row[\"count_order_not_done\"], row[\"top_product_category\"]\n",
    "            )\n",
    "            for row in rows_to_update\n",
    "        ]\n",
    "        execute_values(cursor, update_query, values)\n",
    "    conn.commit()\n",
    "    conn.close()"
   ]
  },
  {
   "cell_type": "code",
   "execution_count": 598,
   "id": "a71fde79-c613-4027-af5c-aff68dfcb2a1",
   "metadata": {},
   "outputs": [],
   "source": [
    "# Затем запись новых строк в витрину\n",
    "if new_rows.count() > 0:\n",
    "    write_table(new_rows, \"dwh\", \"craftsman_report_datamart\")"
   ]
  },
  {
   "cell_type": "code",
   "execution_count": 624,
   "id": "71299821-c122-4e60-9275-118db7773b85",
   "metadata": {},
   "outputs": [
    {
     "name": "stdout",
     "output_type": "stream",
     "text": [
      "Updated load dates table.\n"
     ]
    }
   ],
   "source": [
    "# Обновление метаинформации о загрузке\n",
    "load_dates_df = spark.createDataFrame([{\"load_dttm\": datetime.now()}])\n",
    "write_table(load_dates_df, \"dwh\", \"load_dates_craftsman_report_datamart\")\n",
    "print(\"Updated load dates table.\")"
   ]
  }
 ],
 "metadata": {
  "kernelspec": {
   "display_name": "Python 3 (ipykernel)",
   "language": "python",
   "name": "python3"
  },
  "language_info": {
   "codemirror_mode": {
    "name": "ipython",
    "version": 3
   },
   "file_extension": ".py",
   "mimetype": "text/x-python",
   "name": "python",
   "nbconvert_exporter": "python",
   "pygments_lexer": "ipython3",
   "version": "3.11.6"
  }
 },
 "nbformat": 4,
 "nbformat_minor": 5
}
